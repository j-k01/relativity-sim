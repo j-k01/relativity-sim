{
 "cells": [
  {
   "cell_type": "code",
   "execution_count": 1,
   "metadata": {},
   "outputs": [
    {
     "name": "stdout",
     "output_type": "stream",
     "text": [
      "pygame 2.1.2 (SDL 2.0.18, Python 3.9.12)\n",
      "Hello from the pygame community. https://www.pygame.org/contribute.html\n"
     ]
    }
   ],
   "source": [
    "import sys, pygame\n",
    "pygame.init()\n",
    "\n",
    "size = width, height = 320, 240\n",
    "speed = [2, 2]\n",
    "black = 0, 0, 0\n",
    "\n",
    "screen = pygame.display.set_mode(size)\n",
    "\n",
    "ball = pygame.image.load(\"intro_ball.gif\")\n",
    "ballrect = ball.get_rect()\n",
    "\n",
    "done = False\n",
    "while not done:\n",
    "    for event in pygame.event.get():\n",
    "        if event.type == pygame.KEYDOWN:\n",
    "            if event.key == pygame.K_ESCAPE:\n",
    "                done = True\n",
    "        if event.type == pygame.QUIT:\n",
    "            done = True\n",
    "            break\n",
    "            \n",
    "    ballrect = ballrect.move(speed)\n",
    "    if ballrect.left < 0 or ballrect.right > width:\n",
    "        speed[0] = -speed[0]\n",
    "    if ballrect.top < 0 or ballrect.bottom > height:\n",
    "        speed[1] = -speed[1]\n",
    "\n",
    "    screen.fill(black)\n",
    "    screen.blit(ball, ballrect)\n",
    "    pygame.display.flip()\n",
    "    if done:\n",
    "        break"
   ]
  },
  {
   "cell_type": "code",
   "execution_count": 67,
   "metadata": {},
   "outputs": [],
   "source": [
    "import numpy as np\n",
    "import math \n",
    "import matplotlib.pyplot as plt\n",
    "from mpl_toolkits import mplot3d\n",
    "%matplotlib inline\n"
   ]
  },
  {
   "cell_type": "code",
   "execution_count": 58,
   "metadata": {},
   "outputs": [],
   "source": [
    "xrange = np.array([x for x in range(5)])\n",
    "yrange = np.array([x for x in range(5)])\n",
    "\n",
    "x,y = np.meshgrid(xrange, yrange)\n",
    "\n",
    "z = np.ones((5,5))"
   ]
  },
  {
   "cell_type": "code",
   "execution_count": 283,
   "metadata": {},
   "outputs": [],
   "source": [
    "def gamma(v, c = 1):\n",
    "    gamma = 1/math.sqrt(1-v**2/c**2)\n",
    "    return gamma\n",
    "\n",
    "def component_magnitudes(magnitude, angle):\n",
    "    x = magnitude * np.cos(np.radians(angle))\n",
    "    y = magnitude * np.sin(np.radians(angle))\n",
    "    return x, y\n",
    "\n",
    "def RCA(L, v, c = 1):\n",
    "    clock_ahead = (L * v)/c**2\n",
    "    return clock_ahead\n",
    "    "
   ]
  },
  {
   "cell_type": "code",
   "execution_count": 318,
   "metadata": {},
   "outputs": [
    {
     "data": {
      "text/plain": [
       "(0.8660254037844387, 0.49999999999999994)"
      ]
     },
     "execution_count": 318,
     "metadata": {},
     "output_type": "execute_result"
    }
   ],
   "source": [
    "component_magnitudes(1,30)\n"
   ]
  },
  {
   "cell_type": "code",
   "execution_count": 107,
   "metadata": {},
   "outputs": [
    {
     "data": {
      "text/plain": [
       "27.978357235652354"
      ]
     },
     "execution_count": 107,
     "metadata": {},
     "output_type": "execute_result"
    }
   ],
   "source": [
    "np.degrees(np.arctan(np.sin(np.radians(45))/gamma(.66)))"
   ]
  },
  {
   "cell_type": "code",
   "execution_count": 114,
   "metadata": {},
   "outputs": [
    {
     "data": {
      "text/plain": [
       "0.8006872048434395"
      ]
     },
     "execution_count": 114,
     "metadata": {},
     "output_type": "execute_result"
    }
   ],
   "source": [
    "(np.sqrt(2)/2)/np.cos(np.arctan(np.sin(np.radians(45))/gamma(.66)))"
   ]
  },
  {
   "cell_type": "code",
   "execution_count": 443,
   "metadata": {},
   "outputs": [
    {
     "data": {
      "text/plain": [
       "2578.3100780887044"
      ]
     },
     "execution_count": 443,
     "metadata": {},
     "output_type": "execute_result"
    }
   ],
   "source": [
    "theta"
   ]
  },
  {
   "cell_type": "code",
   "execution_count": 503,
   "metadata": {},
   "outputs": [
    {
     "data": {
      "text/plain": [
       "<matplotlib.collections.PathCollection at 0x2bf6fc36940>"
      ]
     },
     "execution_count": 503,
     "metadata": {},
     "output_type": "execute_result"
    },
    {
     "data": {
      "image/png": "[encoded data removed]",
      "text/plain": [
       "<Figure size 432x288 with 1 Axes>"
      ]
     },
     "metadata": {
      "needs_background": "light"
     },
     "output_type": "display_data"
    }
   ],
   "source": [
    "theta = np.radians(1)\n",
    "rot_matrix = np.matrix([[np.cos(theta), -np.sin(theta)],\n",
    "                   [np.sin(theta),  np.cos(theta)]])\n",
    "\n",
    "scal_mat = np.matrix([[1, 0],\n",
    "                   [0,ga]])\n",
    "\n",
    "test_matrix = [[0,0,1,1],[0,1,1,0]]\n",
    "\n",
    "a_matrix = [[.707],[.707]]\n",
    "\n",
    "testmat = np.matmul(scal_mat,test_matrix)\n",
    "\n",
    "fig = plt.figure()\n",
    "ax = plt.axes()\n",
    "\n",
    "\n",
    "ax.scatter(test_matrix[0],test_matrix[1])\n",
    "\n",
    "ax.scatter(np.array(testmat[0]),np.array(testmat[1]))"
   ]
  },
  {
   "cell_type": "code",
   "execution_count": 447,
   "metadata": {},
   "outputs": [
    {
     "name": "stdout",
     "output_type": "stream",
     "text": [
      "[[ 0.9998477  -0.01745241]\n",
      " [ 0.01745241  0.9998477 ]]\n"
     ]
    },
    {
     "data": {
      "image/png": "[encoded data removed]",
      "text/plain": [
       "<Figure size 432x288 with 1 Axes>"
      ]
     },
     "metadata": {
      "needs_background": "light"
     },
     "output_type": "display_data"
    }
   ],
   "source": [
    "\n",
    "theta = np.radians(1)\n",
    "rot_matrix = np.matrix([[np.cos(theta), -np.sin(theta)],\n",
    "                   [np.sin(theta),  np.cos(theta)]])\n",
    "\n",
    "\n",
    "Xr   =  np.cos(theta)*xx - np.sin(theta)*yy  # \"cloclwise\"\n",
    "Yr   =  np.sin(theta)*xx + np.cos(theta)*yy\n",
    "\n",
    "\n",
    "test_matrix = [[0,0,1,1],[0,1,1,0]]\n",
    "testmat = np.matmul(rot_matrix,[xx[0],yy[0]])\n",
    "\n",
    "fig = plt.figure()\n",
    "ax = plt.axes()\n",
    "\n",
    "\n",
    "ax.scatter(np.array(testmat[0]),np.array(testmat[1]))\n",
    "\n",
    "ax.scatter(Xr[0], Yr[0])\n",
    "print(rot_matrix)"
   ]
  },
  {
   "cell_type": "code",
   "execution_count": 450,
   "metadata": {},
   "outputs": [
    {
     "data": {
      "text/plain": [
       "<matplotlib.collections.PathCollection at 0x2bf7039f1f0>"
      ]
     },
     "execution_count": 450,
     "metadata": {},
     "output_type": "execute_result"
    },
    {
     "data": {
      "image/png": "[encoded data removed]",
      "text/plain": [
       "<Figure size 432x288 with 1 Axes>"
      ]
     },
     "metadata": {
      "needs_background": "light"
     },
     "output_type": "display_data"
    }
   ],
   "source": [
    "theta = np.radians(1)\n",
    "rot_matrix = np.matrix([[np.cos(theta), -np.sin(theta)],\n",
    "                   [np.sin(theta),  np.cos(theta)]])\n",
    "x1, y1 =np.einsum('ji,mni -> jmn', rot_matrix, np.dstack([xx, yy]))\n",
    "\n",
    "\n",
    "fig = plt.figure()\n",
    "ax = plt.axes()\n",
    "\n",
    "\n",
    "ax.scatter(x1, y1)\n"
   ]
  },
  {
   "cell_type": "code",
   "execution_count": 505,
   "metadata": {},
   "outputs": [
    {
     "name": "stdout",
     "output_type": "stream",
     "text": [
      "0.751265598839718\n"
     ]
    },
    {
     "data": {
      "text/plain": [
       "<matplotlib.collections.PathCollection at 0x2bf6e6d6640>"
      ]
     },
     "execution_count": 505,
     "metadata": {},
     "output_type": "execute_result"
    },
    {
     "data": {
      "image/png": "[encoded data removed]",
      "text/plain": [
       "<Figure size 432x288 with 1 Axes>"
      ]
     },
     "metadata": {
      "needs_background": "light"
     },
     "output_type": "display_data"
    }
   ],
   "source": [
    "theta = np.radians(0)\n",
    "ga = 1/gamma(vel)\n",
    "print(ga)\n",
    "rot_matrix = np.matrix([[np.cos(theta), -np.sin(theta)],\n",
    "                   [np.sin(theta),  np.cos(theta)]])\n",
    "\n",
    "\n",
    "cl_rot_matrix = np.matrix([[np.cos(theta), np.sin(theta)],\n",
    "                   [-np.sin(theta),  np.cos(theta)]])\n",
    "\n",
    "scal_mat = np.matrix([[1, 0],\n",
    "                   [0,ga]])\n",
    "\n",
    "unit_mat =[[1],[1]]\n",
    "\n",
    "rot_unit_mat = np.matmul(rot_matrix,unit_mat)\n",
    "\n",
    "\n",
    "scale_rot_unit_mat = np.matmul(scal_mat,rot_unit_mat)\n",
    "\n",
    "new_unit_mat = np.matmul(cl_rot_matrix,scale_rot_unit_mat)\n",
    "\n",
    "\n",
    "fig = plt.figure()\n",
    "ax = plt.axes()\n",
    "\n",
    "\n",
    "#ax.scatter(xx, yy)\n",
    "ax.scatter(unit_mat[0], unit_mat[1])\n",
    "#ax.scatter(np.array(rot_unit_mat[0]),np.array(rot_unit_mat[1]))\n",
    "#ax.scatter(np.array(scale_rot_unit_mat[0]),np.array(scale_rot_unit_mat[1]))\n",
    "ax.scatter(np.array(new_unit_mat[0]),np.array(new_unit_mat[1]))\n"
   ]
  },
  {
   "cell_type": "code",
   "execution_count": 563,
   "metadata": {},
   "outputs": [
    {
     "name": "stdout",
     "output_type": "stream",
     "text": [
      "0.4358898943540673\n"
     ]
    },
    {
     "data": {
      "text/plain": [
       "<matplotlib.collections.PathCollection at 0x2bf730dc280>"
      ]
     },
     "execution_count": 563,
     "metadata": {},
     "output_type": "execute_result"
    },
    {
     "data": {
      "image/png": "[encoded data removed]",
      "text/plain": [
       "<Figure size 432x288 with 1 Axes>"
      ]
     },
     "metadata": {
      "needs_background": "light"
     },
     "output_type": "display_data"
    }
   ],
   "source": [
    "#this one?\n",
    "theta = np.radians(45)\n",
    "ga = 1/gamma(.90)\n",
    "print(ga)\n",
    "rot_matrix = np.matrix([[np.cos(theta), -np.sin(theta)],\n",
    "                   [np.sin(theta),  np.cos(theta)]])\n",
    "\n",
    "\n",
    "cl_rot_matrix = np.matrix([[np.cos(theta), np.sin(theta)],\n",
    "                   [-np.sin(theta),  np.cos(theta)]])\n",
    "\n",
    "scal_mat = np.matrix([[1, 0],\n",
    "                   [0,ga]])\n",
    "\n",
    "unit_mat =[[1],[1]]\n",
    "\n",
    "rot_unit_mat = np.matmul(rot_matrix,unit_mat)\n",
    "\n",
    "\n",
    "scale_rot_unit_mat = np.matmul(scal_mat,rot_unit_mat)\n",
    "\n",
    "new_unit_mat = np.matmul(cl_rot_matrix,scale_rot_unit_mat)\n",
    "\n",
    "\n",
    "fig = plt.figure()\n",
    "ax = plt.axes()\n",
    "\n",
    "x1 = xx*new_unit_mat.item(0)\n",
    "\n",
    "y1 = yy*new_unit_mat.item(1)\n",
    "\n",
    "\n",
    "ax.scatter(xx, yy)\n",
    "\n",
    "ax.scatter(x1, y1)"
   ]
  },
  {
   "cell_type": "code",
   "execution_count": 566,
   "metadata": {},
   "outputs": [
    {
     "name": "stdout",
     "output_type": "stream",
     "text": [
      "0.751265598839718\n"
     ]
    },
    {
     "data": {
      "text/plain": [
       "<matplotlib.collections.PathCollection at 0x2bf731957c0>"
      ]
     },
     "execution_count": 566,
     "metadata": {},
     "output_type": "execute_result"
    },
    {
     "data": {
      "image/png": "[encoded data removed]",
      "text/plain": [
       "<Figure size 432x288 with 1 Axes>"
      ]
     },
     "metadata": {
      "needs_background": "light"
     },
     "output_type": "display_data"
    }
   ],
   "source": [
    "theta = np.radians(30)\n",
    "ga = 1/gamma(.66)\n",
    "print(ga)\n",
    "rot_matrix = np.matrix([[np.cos(theta), -np.sin(theta)],\n",
    "                   [np.sin(theta),  np.cos(theta)]])\n",
    "\n",
    "\n",
    "cl_rot_matrix = np.matrix([[np.cos(theta), np.sin(theta)],\n",
    "                   [-np.sin(theta),  np.cos(theta)]])\n",
    "\n",
    "scal_mat = np.matrix([[ga, 0],\n",
    "                   [0,ga]])\n",
    "\n",
    "unit_mat =[[1],[1]]\n",
    "\n",
    "scale_unit_mat = np.matmul(scal_mat,unit_mat)\n",
    "\n",
    "new_unit_mat = np.matmul(rot_matrix,unit_mat)\n",
    "\n",
    "\n",
    "fig = plt.figure()\n",
    "ax = plt.axes()\n",
    "\n",
    "x1 = xx*new_unit_mat.item(0)\n",
    "\n",
    "y1 = yy*new_unit_mat.item(1)\n",
    "\n",
    "\n",
    "ax.scatter(xx, yy)\n",
    "\n",
    "ax.scatter(x1, y1)"
   ]
  },
  {
   "cell_type": "code",
   "execution_count": 564,
   "metadata": {},
   "outputs": [
    {
     "name": "stdout",
     "output_type": "stream",
     "text": [
      "[[ 0.70710678 -0.70710678]\n",
      " [ 0.70710678  0.70710678]]\n",
      "[[0.7512656]\n",
      " [0.7512656]]\n"
     ]
    }
   ],
   "source": [
    "print(rot_matrix)\n",
    "print(scale_unit_mat)"
   ]
  },
  {
   "cell_type": "code",
   "execution_count": 336,
   "metadata": {},
   "outputs": [],
   "source": [
    "def rotation_vector(angle, gamma):\n",
    "    hypo = np.cos(np.radians(angle))\n",
    "    compliment_angle = 90-angle\n",
    "    vert = hypo*np.sin(np.radians(angle))\n",
    "    horz = hypo*np.cos(np.radians(angle))\n",
    "    new_vert = vert/gamma\n",
    "    new_angle = np.arctan(new_vert/horz)\n",
    "    new_hypo = horz/np.cos(new_angle)\n",
    "    return new_hypo\n",
    "\n",
    "def rotation_vector_alt(angle, gamma):\n",
    "    hypo = np.cos(np.radians(angle))\n",
    "    compliment_angle = 90-angle\n",
    "    vert = hypo*np.sin(np.radians(compliment_angle))\n",
    "    horz = hypo*np.cos(np.radians(compliment_angle))\n",
    "    new_vert = vert/gamma\n",
    "    new_hypo = np.sqrt(horz**2 + new_vert**2)\n",
    "    c_ratio = np.abs(new_hypo/hypo)\n",
    "    return c_ratio\n",
    "\n",
    "def new_vert(angle, gamma):\n",
    "    return np.sin(np.radians(angle))/gamma"
   ]
  },
  {
   "cell_type": "code",
   "execution_count": 308,
   "metadata": {},
   "outputs": [
    {
     "data": {
      "text/plain": [
       "1.3962634015954636"
      ]
     },
     "execution_count": 308,
     "metadata": {},
     "output_type": "execute_result"
    }
   ],
   "source": [
    "np.radians(80)"
   ]
  },
  {
   "cell_type": "code",
   "execution_count": 309,
   "metadata": {},
   "outputs": [
    {
     "name": "stdout",
     "output_type": "stream",
     "text": [
      "0.0174524064372836 1 0.00030458649045213645 0.01744974835125057 0.00022882535214801235 0.01745124862477633 0.9999336588618063\n"
     ]
    }
   ],
   "source": [
    "angle = 89\n",
    "gammaa = gamma(.66)\n",
    "\n",
    "hypo = np.cos(np.radians(angle))\n",
    "compliment_angle = 90-angle\n",
    "vert = hypo*np.sin(np.radians(compliment_angle))\n",
    "horz = hypo*np.cos(np.radians(compliment_angle))\n",
    "new_vert = vert/gammaa\n",
    "new_hypo = np.sqrt(horz**2 + new_vert**2)\n",
    "c_ratio = np.abs(new_hypo/hypo)\n",
    "\n",
    "print(hypo, compliment_angle, vert, horz, new_vert, new_hypo, c_ratio)"
   ]
  },
  {
   "cell_type": "code",
   "execution_count": 322,
   "metadata": {},
   "outputs": [],
   "source": [
    "vals = [rotation_vector_alt(x,gamma(.999)) for x in range(180)]\n",
    "vert = [new_vert(x,gamma(.66)) for x in range(180)]"
   ]
  },
  {
   "cell_type": "code",
   "execution_count": 323,
   "metadata": {},
   "outputs": [
    {
     "data": {
      "text/plain": [
       "[<matplotlib.lines.Line2D at 0x2bf6a4fbbb0>]"
      ]
     },
     "execution_count": 323,
     "metadata": {},
     "output_type": "execute_result"
    },
    {
     "data": {
      "image/png": "[encoded data removed]",
      "text/plain": [
       "<Figure size 432x288 with 1 Axes>"
      ]
     },
     "metadata": {
      "needs_background": "light"
     },
     "output_type": "display_data"
    }
   ],
   "source": [
    "fig = plt.figure()\n",
    "ax = plt.axes()\n",
    "\n",
    "ax.plot([x for x in range(180)], vals)"
   ]
  },
  {
   "cell_type": "code",
   "execution_count": 317,
   "metadata": {},
   "outputs": [
    {
     "data": {
      "text/plain": [
       "[<matplotlib.lines.Line2D at 0x2bf6a42cf10>]"
      ]
     },
     "execution_count": 317,
     "metadata": {},
     "output_type": "execute_result"
    },
    {
     "data": {
      "image/png": "[encoded data removed]",
      "text/plain": [
       "<Figure size 432x288 with 1 Axes>"
      ]
     },
     "metadata": {
      "needs_background": "light"
     },
     "output_type": "display_data"
    }
   ],
   "source": [
    "fig = plt.figure()\n",
    "ax = plt.axes()\n",
    "\n",
    "ax.plot([x for x in range(180)], vert)"
   ]
  },
  {
   "cell_type": "code",
   "execution_count": 134,
   "metadata": {},
   "outputs": [
    {
     "name": "stdout",
     "output_type": "stream",
     "text": [
      "1.6\n",
      "0.8000000000000002\n",
      "0.8000000000000002\n"
     ]
    }
   ],
   "source": [
    "magnitude = .8\n",
    "angle = 45\n",
    "L = 2\n",
    "x, y = component_magnitudes(magnitude, angle)\n",
    "Lx, Ly = component_magnitudes(L, angle)\n",
    "\n",
    "\n",
    "print(RCA(L,magnitude))\n",
    "print(RCA(Lx,x))\n",
    "print(RCA(Ly,y))"
   ]
  },
  {
   "cell_type": "code",
   "execution_count": 171,
   "metadata": {},
   "outputs": [
    {
     "data": {
      "text/plain": [
       "0.7511511774501781"
      ]
     },
     "execution_count": 171,
     "metadata": {},
     "output_type": "execute_result"
    }
   ],
   "source": [
    "np.sin(np.radians(89))/gamma(.66)"
   ]
  },
  {
   "cell_type": "code",
   "execution_count": 374,
   "metadata": {},
   "outputs": [],
   "source": [
    "\n",
    "xvalues = np.array([x for x in range(10)])\n",
    "yvalues = np.array([x for x in range(10)])\n",
    "zvalues = np.array([x for x in range(10)])\n",
    "zvalues = np.array([x for x in range(10)])\n",
    "xx, yy = np.meshgrid(xvalues, yvalues)\n",
    "zeros = np.zeros((10,10))"
   ]
  },
  {
   "cell_type": "code",
   "execution_count": 82,
   "metadata": {},
   "outputs": [
    {
     "data": {
      "image/png": "[encoded data removed]",
      "text/plain": [
       "<Figure size 432x288 with 1 Axes>"
      ]
     },
     "metadata": {
      "needs_background": "light"
     },
     "output_type": "display_data"
    }
   ],
   "source": [
    "fig = plt.figure()\n",
    "ax = plt.axes(projection='3d')\n",
    "\n",
    "# Data for a three-dimensional line\n",
    "#zline = np.linspace(0, 15, 1000)\n",
    "#xline = np.sin(zline)\n",
    "#yline = np.cos(zline)\n",
    "#ax.plot3D(xline, yline, zline, 'gray')\n",
    "\n",
    "# Data for three-dimensional scattered points\n",
    "zdata = 15 * np.random.random(100)\n",
    "xdata = np.sin(zdata) + 0.1 * np.random.randn(100)\n",
    "ydata = np.cos(zdata) + 0.1 * np.random.randn(100)\n",
    "ax.scatter3D(xx, yy,yy);\n",
    "ax.scatter3D(yy, xx,zeros);"
   ]
  },
  {
   "cell_type": "code",
   "execution_count": 66,
   "metadata": {},
   "outputs": [],
   "source": [
    "class Frame():\n",
    "    def __init__(self):\n",
    "        self.name = None\n",
    "        self.events = []\n",
    "        self.velocity = .5\n",
    "        self.angle = 360\n",
    "    def add_event(self, event):\n",
    "        self.events.append(event)\n",
    "        \n",
    "class Event():\n",
    "    def __init__(self):\n",
    "        self.coordinate = (0,0)\n",
    "    def set_coordinate(x,y):\n",
    "        self.coordiante = (x,y)"
   ]
  },
  {
   "cell_type": "code",
   "execution_count": 45,
   "metadata": {},
   "outputs": [],
   "source": [
    "\n",
    "x1,y1 = np.meshgrid(xrange, yrange)"
   ]
  },
  {
   "cell_type": "code",
   "execution_count": 73,
   "metadata": {},
   "outputs": [],
   "source": [
    "x1, y1, z1 = np.meshgrid(xvalues, yvalues, zvalues)"
   ]
  },
  {
   "cell_type": "code",
   "execution_count": 78,
   "metadata": {},
   "outputs": [
    {
     "data": {
      "text/plain": [
       "array([[[0, 0, 0, 0, 0, 0, 0, 0, 0, 0],\n",
       "        [1, 1, 1, 1, 1, 1, 1, 1, 1, 1],\n",
       "        [2, 2, 2, 2, 2, 2, 2, 2, 2, 2],\n",
       "        [3, 3, 3, 3, 3, 3, 3, 3, 3, 3],\n",
       "        [4, 4, 4, 4, 4, 4, 4, 4, 4, 4],\n",
       "        [5, 5, 5, 5, 5, 5, 5, 5, 5, 5],\n",
       "        [6, 6, 6, 6, 6, 6, 6, 6, 6, 6],\n",
       "        [7, 7, 7, 7, 7, 7, 7, 7, 7, 7],\n",
       "        [8, 8, 8, 8, 8, 8, 8, 8, 8, 8],\n",
       "        [9, 9, 9, 9, 9, 9, 9, 9, 9, 9]],\n",
       "\n",
       "       [[0, 0, 0, 0, 0, 0, 0, 0, 0, 0],\n",
       "        [1, 1, 1, 1, 1, 1, 1, 1, 1, 1],\n",
       "        [2, 2, 2, 2, 2, 2, 2, 2, 2, 2],\n",
       "        [3, 3, 3, 3, 3, 3, 3, 3, 3, 3],\n",
       "        [4, 4, 4, 4, 4, 4, 4, 4, 4, 4],\n",
       "        [5, 5, 5, 5, 5, 5, 5, 5, 5, 5],\n",
       "        [6, 6, 6, 6, 6, 6, 6, 6, 6, 6],\n",
       "        [7, 7, 7, 7, 7, 7, 7, 7, 7, 7],\n",
       "        [8, 8, 8, 8, 8, 8, 8, 8, 8, 8],\n",
       "        [9, 9, 9, 9, 9, 9, 9, 9, 9, 9]],\n",
       "\n",
       "       [[0, 0, 0, 0, 0, 0, 0, 0, 0, 0],\n",
       "        [1, 1, 1, 1, 1, 1, 1, 1, 1, 1],\n",
       "        [2, 2, 2, 2, 2, 2, 2, 2, 2, 2],\n",
       "        [3, 3, 3, 3, 3, 3, 3, 3, 3, 3],\n",
       "        [4, 4, 4, 4, 4, 4, 4, 4, 4, 4],\n",
       "        [5, 5, 5, 5, 5, 5, 5, 5, 5, 5],\n",
       "        [6, 6, 6, 6, 6, 6, 6, 6, 6, 6],\n",
       "        [7, 7, 7, 7, 7, 7, 7, 7, 7, 7],\n",
       "        [8, 8, 8, 8, 8, 8, 8, 8, 8, 8],\n",
       "        [9, 9, 9, 9, 9, 9, 9, 9, 9, 9]],\n",
       "\n",
       "       [[0, 0, 0, 0, 0, 0, 0, 0, 0, 0],\n",
       "        [1, 1, 1, 1, 1, 1, 1, 1, 1, 1],\n",
       "        [2, 2, 2, 2, 2, 2, 2, 2, 2, 2],\n",
       "        [3, 3, 3, 3, 3, 3, 3, 3, 3, 3],\n",
       "        [4, 4, 4, 4, 4, 4, 4, 4, 4, 4],\n",
       "        [5, 5, 5, 5, 5, 5, 5, 5, 5, 5],\n",
       "        [6, 6, 6, 6, 6, 6, 6, 6, 6, 6],\n",
       "        [7, 7, 7, 7, 7, 7, 7, 7, 7, 7],\n",
       "        [8, 8, 8, 8, 8, 8, 8, 8, 8, 8],\n",
       "        [9, 9, 9, 9, 9, 9, 9, 9, 9, 9]],\n",
       "\n",
       "       [[0, 0, 0, 0, 0, 0, 0, 0, 0, 0],\n",
       "        [1, 1, 1, 1, 1, 1, 1, 1, 1, 1],\n",
       "        [2, 2, 2, 2, 2, 2, 2, 2, 2, 2],\n",
       "        [3, 3, 3, 3, 3, 3, 3, 3, 3, 3],\n",
       "        [4, 4, 4, 4, 4, 4, 4, 4, 4, 4],\n",
       "        [5, 5, 5, 5, 5, 5, 5, 5, 5, 5],\n",
       "        [6, 6, 6, 6, 6, 6, 6, 6, 6, 6],\n",
       "        [7, 7, 7, 7, 7, 7, 7, 7, 7, 7],\n",
       "        [8, 8, 8, 8, 8, 8, 8, 8, 8, 8],\n",
       "        [9, 9, 9, 9, 9, 9, 9, 9, 9, 9]],\n",
       "\n",
       "       [[0, 0, 0, 0, 0, 0, 0, 0, 0, 0],\n",
       "        [1, 1, 1, 1, 1, 1, 1, 1, 1, 1],\n",
       "        [2, 2, 2, 2, 2, 2, 2, 2, 2, 2],\n",
       "        [3, 3, 3, 3, 3, 3, 3, 3, 3, 3],\n",
       "        [4, 4, 4, 4, 4, 4, 4, 4, 4, 4],\n",
       "        [5, 5, 5, 5, 5, 5, 5, 5, 5, 5],\n",
       "        [6, 6, 6, 6, 6, 6, 6, 6, 6, 6],\n",
       "        [7, 7, 7, 7, 7, 7, 7, 7, 7, 7],\n",
       "        [8, 8, 8, 8, 8, 8, 8, 8, 8, 8],\n",
       "        [9, 9, 9, 9, 9, 9, 9, 9, 9, 9]],\n",
       "\n",
       "       [[0, 0, 0, 0, 0, 0, 0, 0, 0, 0],\n",
       "        [1, 1, 1, 1, 1, 1, 1, 1, 1, 1],\n",
       "        [2, 2, 2, 2, 2, 2, 2, 2, 2, 2],\n",
       "        [3, 3, 3, 3, 3, 3, 3, 3, 3, 3],\n",
       "        [4, 4, 4, 4, 4, 4, 4, 4, 4, 4],\n",
       "        [5, 5, 5, 5, 5, 5, 5, 5, 5, 5],\n",
       "        [6, 6, 6, 6, 6, 6, 6, 6, 6, 6],\n",
       "        [7, 7, 7, 7, 7, 7, 7, 7, 7, 7],\n",
       "        [8, 8, 8, 8, 8, 8, 8, 8, 8, 8],\n",
       "        [9, 9, 9, 9, 9, 9, 9, 9, 9, 9]],\n",
       "\n",
       "       [[0, 0, 0, 0, 0, 0, 0, 0, 0, 0],\n",
       "        [1, 1, 1, 1, 1, 1, 1, 1, 1, 1],\n",
       "        [2, 2, 2, 2, 2, 2, 2, 2, 2, 2],\n",
       "        [3, 3, 3, 3, 3, 3, 3, 3, 3, 3],\n",
       "        [4, 4, 4, 4, 4, 4, 4, 4, 4, 4],\n",
       "        [5, 5, 5, 5, 5, 5, 5, 5, 5, 5],\n",
       "        [6, 6, 6, 6, 6, 6, 6, 6, 6, 6],\n",
       "        [7, 7, 7, 7, 7, 7, 7, 7, 7, 7],\n",
       "        [8, 8, 8, 8, 8, 8, 8, 8, 8, 8],\n",
       "        [9, 9, 9, 9, 9, 9, 9, 9, 9, 9]],\n",
       "\n",
       "       [[0, 0, 0, 0, 0, 0, 0, 0, 0, 0],\n",
       "        [1, 1, 1, 1, 1, 1, 1, 1, 1, 1],\n",
       "        [2, 2, 2, 2, 2, 2, 2, 2, 2, 2],\n",
       "        [3, 3, 3, 3, 3, 3, 3, 3, 3, 3],\n",
       "        [4, 4, 4, 4, 4, 4, 4, 4, 4, 4],\n",
       "        [5, 5, 5, 5, 5, 5, 5, 5, 5, 5],\n",
       "        [6, 6, 6, 6, 6, 6, 6, 6, 6, 6],\n",
       "        [7, 7, 7, 7, 7, 7, 7, 7, 7, 7],\n",
       "        [8, 8, 8, 8, 8, 8, 8, 8, 8, 8],\n",
       "        [9, 9, 9, 9, 9, 9, 9, 9, 9, 9]],\n",
       "\n",
       "       [[0, 0, 0, 0, 0, 0, 0, 0, 0, 0],\n",
       "        [1, 1, 1, 1, 1, 1, 1, 1, 1, 1],\n",
       "        [2, 2, 2, 2, 2, 2, 2, 2, 2, 2],\n",
       "        [3, 3, 3, 3, 3, 3, 3, 3, 3, 3],\n",
       "        [4, 4, 4, 4, 4, 4, 4, 4, 4, 4],\n",
       "        [5, 5, 5, 5, 5, 5, 5, 5, 5, 5],\n",
       "        [6, 6, 6, 6, 6, 6, 6, 6, 6, 6],\n",
       "        [7, 7, 7, 7, 7, 7, 7, 7, 7, 7],\n",
       "        [8, 8, 8, 8, 8, 8, 8, 8, 8, 8],\n",
       "        [9, 9, 9, 9, 9, 9, 9, 9, 9, 9]]])"
      ]
     },
     "execution_count": 78,
     "metadata": {},
     "output_type": "execute_result"
    }
   ],
   "source": []
  },
  {
   "cell_type": "code",
   "execution_count": 84,
   "metadata": {},
   "outputs": [
    {
     "name": "stdout",
     "output_type": "stream",
     "text": [
      "pygame 2.1.2 (SDL 2.0.18, Python 3.9.12)\n",
      "Hello from the pygame community. https://www.pygame.org/contribute.html\n"
     ]
    }
   ],
   "source": [
    "import pygame\n",
    "import math\n",
    "\n",
    "def rotate_triangle(center, scale, mouse_pos):\n",
    "\n",
    "    vMouse  = pygame.math.Vector2(mouse_pos)\n",
    "    vCenter = pygame.math.Vector2(center)\n",
    "    angle   = pygame.math.Vector2().angle_to(vMouse - vCenter)\n",
    "\n",
    "    points = [(-0.5, -0.866), (-0.5, 0.866), (2.0, 0.0)]\n",
    "    rotated_point = [pygame.math.Vector2(p).rotate(angle) for p in points]\n",
    "\n",
    "    triangle_points = [(vCenter + p*scale) for p in rotated_point]\n",
    "    return triangle_points\n",
    "\n",
    "disp=pygame.display.set_mode((200,200))\n",
    "\n",
    "run = True\n",
    "while run:\n",
    "\n",
    "    for event in pygame.event.get():\n",
    "        if event.type == pygame.QUIT:\n",
    "            run = False\n",
    "\n",
    "    mouse_position = pygame.mouse.get_pos()\n",
    "    points = rotate_triangle((100, 100), 10, mouse_position)\n",
    "\n",
    "    pygame.Surface.fill(disp, (255,255,255))\n",
    "    pygame.draw.polygon(disp, (0,0,0), points)\n",
    "    pygame.display.update()"
   ]
  },
  {
   "cell_type": "code",
   "execution_count": null,
   "metadata": {},
   "outputs": [],
   "source": []
  }
 ],
 "metadata": {
  "kernelspec": {
   "display_name": "Python 3 (ipykernel)",
   "language": "python",
   "name": "python3"
  },
  "language_info": {
   "codemirror_mode": {
    "name": "ipython",
    "version": 3
   },
   "file_extension": ".py",
   "mimetype": "text/x-python",
   "name": "python",
   "nbconvert_exporter": "python",
   "pygments_lexer": "ipython3",
   "version": "3.9.12"
  }
 },
 "nbformat": 4,
 "nbformat_minor": 4
}
